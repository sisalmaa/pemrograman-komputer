{
 "cells": [
  {
   "cell_type": "markdown",
   "metadata": {},
   "source": [
    "# Pertemuann 2"
   ]
  },
  {
   "cell_type": "code",
   "execution_count": 2,
   "metadata": {},
   "outputs": [
    {
     "name": "stdout",
     "output_type": "stream",
     "text": [
      "Budi <class 'str'>\n",
      "19 <class 'int'>\n",
      "3.6 <class 'float'>\n",
      "[50, 70, 100] <class 'list'>\n",
      "('Ngoding', ' Trading', 'Futsal') <class 'tuple'>\n",
      "{'mclaren': 'kuning', 'no_plat': 1} <class 'dict'>\n"
     ]
    }
   ],
   "source": [
    "nama=\"Budi\"\n",
    "umur=19\n",
    "ipk=3.6\n",
    "nilai=[50,70,100]\n",
    "hobi=(\"Ngoding\",\" Trading\",\"Futsal\")\n",
    "mobil={'mclaren':'kuning','no_plat':1}\n",
    "\n",
    "print(nama, type(nama))\n",
    "print(umur, type(umur))\n",
    "print(ipk, type(ipk))\n",
    "print(nilai, type(nilai))\n",
    "print(hobi, type(hobi))\n",
    "print(mobil, type(mobil))"
   ]
  },
  {
   "cell_type": "code",
   "execution_count": 10,
   "metadata": {},
   "outputs": [
    {
     "name": "stdout",
     "output_type": "stream",
     "text": [
      "a+b=  30\n",
      "a-b=  22\n",
      "a*b=  104\n",
      "a/b=  6.5\n",
      "a%b=  2\n"
     ]
    }
   ],
   "source": [
    "a=int(input(\"a adalah \"))\n",
    "b=int(input(\"b adalah \"))\n",
    "\n",
    "penjumlahan = a + b\n",
    "pengurangan = a - b\n",
    "perkalian = a * b\n",
    "pembagian = a / b\n",
    "modulus = a % b\n",
    "\n",
    "print(\"a+b= \",penjumlahan)\n",
    "print(\"a-b= \",pengurangan )\n",
    "print(\"a*b= \",perkalian )\n",
    "print(\"a/b= \",pembagian )\n",
    "print(\"a%b= \",modulus )"
   ]
  },
  {
   "cell_type": "code",
   "execution_count": 11,
   "metadata": {},
   "outputs": [
    {
     "name": "stdout",
     "output_type": "stream",
     "text": [
      "False\n",
      "True\n",
      "False\n",
      "True\n",
      "False\n",
      "True\n"
     ]
    }
   ],
   "source": [
    "A = 10\n",
    "B = 15\n",
    "\n",
    "print(A == B)\n",
    "print(A != B)\n",
    "print(A > B)\n",
    "print(A < B)\n",
    "print(A >= B)\n",
    "print(A <= B)"
   ]
  },
  {
   "cell_type": "code",
   "execution_count": 12,
   "metadata": {},
   "outputs": [
    {
     "name": "stdout",
     "output_type": "stream",
     "text": [
      "True\n",
      "True\n",
      "True\n"
     ]
    }
   ],
   "source": [
    "a = 2\n",
    "b = 1\n",
    "c = 5\n",
    "\n",
    "print((a > b) and (c > b))\n",
    "print((a > b) or (c > b))\n",
    "print(not(b>b))"
   ]
  },
  {
   "cell_type": "markdown",
   "metadata": {},
   "source": []
  }
 ],
 "metadata": {
  "kernelspec": {
   "display_name": "Python 3",
   "language": "python",
   "name": "python3"
  },
  "language_info": {
   "codemirror_mode": {
    "name": "ipython",
    "version": 3
   },
   "file_extension": ".py",
   "mimetype": "text/x-python",
   "name": "python",
   "nbconvert_exporter": "python",
   "pygments_lexer": "ipython3",
   "version": "3.12.2"
  }
 },
 "nbformat": 4,
 "nbformat_minor": 2
}
